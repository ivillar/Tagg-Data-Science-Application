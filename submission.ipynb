{
  "nbformat": 4,
  "nbformat_minor": 0,
  "metadata": {
    "colab": {
      "name": "submission.ipynb",
      "provenance": [],
      "collapsed_sections": [],
      "machine_shape": "hm",
      "include_colab_link": true
    },
    "kernelspec": {
      "name": "python3",
      "display_name": "Python 3"
    },
    "language_info": {
      "name": "python"
    },
    "accelerator": "GPU"
  },
  "cells": [
    {
      "cell_type": "markdown",
      "metadata": {
        "id": "view-in-github",
        "colab_type": "text"
      },
      "source": [
        "<a href=\"https://colab.research.google.com/github/ivillar/Tagg-Data-Science-Application/blob/main/submission.ipynb\" target=\"_parent\"><img src=\"https://colab.research.google.com/assets/colab-badge.svg\" alt=\"Open In Colab\"/></a>"
      ]
    },
    {
      "cell_type": "markdown",
      "metadata": {
        "id": "aidXHwbF_twi"
      },
      "source": [
        "## Setting up the environment\n",
        "\n",
        "First, we're going to deal with the import statements and other boilerplate"
      ]
    },
    {
      "cell_type": "code",
      "metadata": {
        "id": "mrPtchZFNDcA",
        "colab": {
          "base_uri": "https://localhost:8080/"
        },
        "outputId": "6434d232-01b0-4fab-94b8-7d9150e6b38a"
      },
      "source": [
        "!rm -r Tagg-Data-Science-Application\n",
        "!git clone https://github.com/ivillar/Tagg-Data-Science-Application.git\n",
        "\n",
        "# Importing other important libraries \n",
        "import matplotlib.pyplot as plt\n",
        "import pandas as pd\n",
        "import numpy as np\n",
        "from sklearn.feature_extraction.text import CountVectorizer\n",
        "from sklearn.metrics.pairwise import cosine_similarity\n",
        "from sklearn import metrics\n",
        "from sklearn.model_selection import train_test_split\n",
        "from sklearn.impute import SimpleImputer\n",
        "\n",
        "# Load in data\n",
        "train_data_path = \"./Tagg-Data-Science-Application/data/train.csv\"\n",
        "test_data_path = \"./Tagg-Data-Science-Application/data/test.csv\"\n",
        "\n",
        "# Create train and test data pandas dataframes\n",
        "train_data = pd.read_csv(train_data_path)\n",
        "test_data = pd.read_csv(test_data_path)"
      ],
      "execution_count": null,
      "outputs": [
        {
          "output_type": "stream",
          "text": [
            "rm: cannot remove 'Tagg-Data-Science-Application': No such file or directory\n",
            "Cloning into 'Tagg-Data-Science-Application'...\n",
            "remote: Enumerating objects: 34, done.\u001b[K\n",
            "remote: Counting objects: 100% (34/34), done.\u001b[K\n",
            "remote: Compressing objects: 100% (25/25), done.\u001b[K\n",
            "remote: Total 34 (delta 9), reused 16 (delta 1), pack-reused 0\u001b[K\n",
            "Unpacking objects: 100% (34/34), done.\n"
          ],
          "name": "stdout"
        }
      ]
    },
    {
      "cell_type": "markdown",
      "metadata": {
        "id": "j8gEIfvoDNza"
      },
      "source": [
        "## Exploring the datasets\n",
        "\n",
        "We'll first use the head() method to check out how our datasets are structured:"
      ]
    },
    {
      "cell_type": "code",
      "metadata": {
        "id": "8Rdxg14VQAzk",
        "colab": {
          "base_uri": "https://localhost:8080/",
          "height": 271
        },
        "outputId": "0148297c-a426-4140-e871-3a507057de3e"
      },
      "source": [
        "train_data.head()"
      ],
      "execution_count": null,
      "outputs": [
        {
          "output_type": "execute_result",
          "data": {
            "text/html": [
              "<div>\n",
              "<style scoped>\n",
              "    .dataframe tbody tr th:only-of-type {\n",
              "        vertical-align: middle;\n",
              "    }\n",
              "\n",
              "    .dataframe tbody tr th {\n",
              "        vertical-align: top;\n",
              "    }\n",
              "\n",
              "    .dataframe thead th {\n",
              "        text-align: right;\n",
              "    }\n",
              "</style>\n",
              "<table border=\"1\" class=\"dataframe\">\n",
              "  <thead>\n",
              "    <tr style=\"text-align: right;\">\n",
              "      <th></th>\n",
              "      <th>Unnamed: 0</th>\n",
              "      <th>id</th>\n",
              "      <th>Gender</th>\n",
              "      <th>Customer Type</th>\n",
              "      <th>Age</th>\n",
              "      <th>Use</th>\n",
              "      <th>Tier</th>\n",
              "      <th>f7</th>\n",
              "      <th>f8</th>\n",
              "      <th>f9</th>\n",
              "      <th>f10</th>\n",
              "      <th>f11</th>\n",
              "      <th>f12</th>\n",
              "      <th>f13</th>\n",
              "      <th>f14</th>\n",
              "      <th>f15</th>\n",
              "      <th>f16</th>\n",
              "      <th>f17</th>\n",
              "      <th>f18</th>\n",
              "      <th>f19</th>\n",
              "      <th>f20</th>\n",
              "      <th>f21</th>\n",
              "      <th>f22</th>\n",
              "      <th>f23</th>\n",
              "      <th>Satisfaction</th>\n",
              "    </tr>\n",
              "  </thead>\n",
              "  <tbody>\n",
              "    <tr>\n",
              "      <th>0</th>\n",
              "      <td>0</td>\n",
              "      <td>70172</td>\n",
              "      <td>Male</td>\n",
              "      <td>Loyal Customer</td>\n",
              "      <td>13</td>\n",
              "      <td>Personal</td>\n",
              "      <td>Free Plus</td>\n",
              "      <td>460</td>\n",
              "      <td>3</td>\n",
              "      <td>4</td>\n",
              "      <td>3</td>\n",
              "      <td>1</td>\n",
              "      <td>5</td>\n",
              "      <td>3</td>\n",
              "      <td>5</td>\n",
              "      <td>5</td>\n",
              "      <td>4</td>\n",
              "      <td>3</td>\n",
              "      <td>4</td>\n",
              "      <td>4</td>\n",
              "      <td>5</td>\n",
              "      <td>5</td>\n",
              "      <td>25</td>\n",
              "      <td>18.0</td>\n",
              "      <td>neutral or dissatisfied</td>\n",
              "    </tr>\n",
              "    <tr>\n",
              "      <th>1</th>\n",
              "      <td>1</td>\n",
              "      <td>5047</td>\n",
              "      <td>Male</td>\n",
              "      <td>disloyal Customer</td>\n",
              "      <td>25</td>\n",
              "      <td>Business</td>\n",
              "      <td>Premium</td>\n",
              "      <td>235</td>\n",
              "      <td>3</td>\n",
              "      <td>2</td>\n",
              "      <td>3</td>\n",
              "      <td>3</td>\n",
              "      <td>1</td>\n",
              "      <td>3</td>\n",
              "      <td>1</td>\n",
              "      <td>1</td>\n",
              "      <td>1</td>\n",
              "      <td>5</td>\n",
              "      <td>3</td>\n",
              "      <td>1</td>\n",
              "      <td>4</td>\n",
              "      <td>1</td>\n",
              "      <td>1</td>\n",
              "      <td>6.0</td>\n",
              "      <td>neutral or dissatisfied</td>\n",
              "    </tr>\n",
              "    <tr>\n",
              "      <th>2</th>\n",
              "      <td>2</td>\n",
              "      <td>110028</td>\n",
              "      <td>Female</td>\n",
              "      <td>Loyal Customer</td>\n",
              "      <td>26</td>\n",
              "      <td>Business</td>\n",
              "      <td>Premium</td>\n",
              "      <td>1142</td>\n",
              "      <td>2</td>\n",
              "      <td>2</td>\n",
              "      <td>2</td>\n",
              "      <td>2</td>\n",
              "      <td>5</td>\n",
              "      <td>5</td>\n",
              "      <td>5</td>\n",
              "      <td>5</td>\n",
              "      <td>4</td>\n",
              "      <td>3</td>\n",
              "      <td>4</td>\n",
              "      <td>4</td>\n",
              "      <td>4</td>\n",
              "      <td>5</td>\n",
              "      <td>0</td>\n",
              "      <td>0.0</td>\n",
              "      <td>satisfied</td>\n",
              "    </tr>\n",
              "    <tr>\n",
              "      <th>3</th>\n",
              "      <td>3</td>\n",
              "      <td>24026</td>\n",
              "      <td>Female</td>\n",
              "      <td>Loyal Customer</td>\n",
              "      <td>25</td>\n",
              "      <td>Business</td>\n",
              "      <td>Premium</td>\n",
              "      <td>562</td>\n",
              "      <td>2</td>\n",
              "      <td>5</td>\n",
              "      <td>5</td>\n",
              "      <td>5</td>\n",
              "      <td>2</td>\n",
              "      <td>2</td>\n",
              "      <td>2</td>\n",
              "      <td>2</td>\n",
              "      <td>2</td>\n",
              "      <td>5</td>\n",
              "      <td>3</td>\n",
              "      <td>1</td>\n",
              "      <td>4</td>\n",
              "      <td>2</td>\n",
              "      <td>11</td>\n",
              "      <td>9.0</td>\n",
              "      <td>neutral or dissatisfied</td>\n",
              "    </tr>\n",
              "    <tr>\n",
              "      <th>4</th>\n",
              "      <td>4</td>\n",
              "      <td>119299</td>\n",
              "      <td>Male</td>\n",
              "      <td>Loyal Customer</td>\n",
              "      <td>61</td>\n",
              "      <td>Business</td>\n",
              "      <td>Premium</td>\n",
              "      <td>214</td>\n",
              "      <td>3</td>\n",
              "      <td>3</td>\n",
              "      <td>3</td>\n",
              "      <td>3</td>\n",
              "      <td>4</td>\n",
              "      <td>5</td>\n",
              "      <td>5</td>\n",
              "      <td>3</td>\n",
              "      <td>3</td>\n",
              "      <td>4</td>\n",
              "      <td>4</td>\n",
              "      <td>3</td>\n",
              "      <td>3</td>\n",
              "      <td>3</td>\n",
              "      <td>0</td>\n",
              "      <td>0.0</td>\n",
              "      <td>satisfied</td>\n",
              "    </tr>\n",
              "  </tbody>\n",
              "</table>\n",
              "</div>"
            ],
            "text/plain": [
              "   Unnamed: 0      id  Gender  ... f22   f23             Satisfaction\n",
              "0           0   70172    Male  ...  25  18.0  neutral or dissatisfied\n",
              "1           1    5047    Male  ...   1   6.0  neutral or dissatisfied\n",
              "2           2  110028  Female  ...   0   0.0                satisfied\n",
              "3           3   24026  Female  ...  11   9.0  neutral or dissatisfied\n",
              "4           4  119299    Male  ...   0   0.0                satisfied\n",
              "\n",
              "[5 rows x 25 columns]"
            ]
          },
          "metadata": {
            "tags": []
          },
          "execution_count": 2
        }
      ]
    },
    {
      "cell_type": "markdown",
      "metadata": {
        "id": "1r-CPBBbDfiQ"
      },
      "source": [
        "The 'Unnamed: 0' and 'id' columns seem unecessary for data analysis, so we'll drop them from both datasets."
      ]
    },
    {
      "cell_type": "code",
      "metadata": {
        "id": "Af9qExYEV7NV"
      },
      "source": [
        "n_train_data = train_data.drop(['Unnamed: 0', 'id'], axis = 1)\n",
        "n_test_data = test_data.drop(['Unnamed: 0', 'id'], axis = 1)"
      ],
      "execution_count": null,
      "outputs": []
    },
    {
      "cell_type": "markdown",
      "metadata": {
        "id": "9IQQyoOpGMsE"
      },
      "source": [
        "Moreover, we'll go ahead and see what kinds of values each of the columns take."
      ]
    },
    {
      "cell_type": "code",
      "metadata": {
        "id": "X3fKaxOwXjcf",
        "colab": {
          "base_uri": "https://localhost:8080/"
        },
        "outputId": "ade6eeb1-19d8-411d-96a5-12c0cc77bb3a"
      },
      "source": [
        "for column_name in n_train_data.columns:\n",
        "    column_counts = n_train_data[column_name].value_counts()\n",
        "    print(column_counts)\n",
        "    print(\"----\")"
      ],
      "execution_count": null,
      "outputs": [
        {
          "output_type": "stream",
          "text": [
            "Female    52727\n",
            "Male      51177\n",
            "Name: Gender, dtype: int64\n",
            "----\n",
            "Loyal Customer       84923\n",
            "disloyal Customer    18981\n",
            "Name: Customer Type, dtype: int64\n",
            "----\n",
            "39    2969\n",
            "25    2798\n",
            "40    2574\n",
            "44    2482\n",
            "42    2457\n",
            "      ... \n",
            "74      47\n",
            "76      45\n",
            "79      42\n",
            "78      33\n",
            "85      17\n",
            "Name: Age, Length: 75, dtype: int64\n",
            "----\n",
            "Business    71655\n",
            "Personal    32249\n",
            "Name: Use, dtype: int64\n",
            "----\n",
            "Premium      49665\n",
            "Free         46745\n",
            "Free Plus     7494\n",
            "Name: Tier, dtype: int64\n",
            "----\n",
            "337     660\n",
            "594     395\n",
            "404     392\n",
            "2475    369\n",
            "862     369\n",
            "       ... \n",
            "1466      1\n",
            "856       1\n",
            "810       1\n",
            "1361      1\n",
            "3763      1\n",
            "Name: f7, Length: 3802, dtype: int64\n",
            "----\n",
            "3    25868\n",
            "2    25830\n",
            "4    19794\n",
            "1    17840\n",
            "5    11469\n",
            "0     3103\n",
            "Name: f8, dtype: int64\n",
            "----\n",
            "4    25546\n",
            "5    22403\n",
            "3    17966\n",
            "2    17191\n",
            "1    15498\n",
            "0     5300\n",
            "Name: f9, dtype: int64\n",
            "----\n",
            "3    24449\n",
            "2    24021\n",
            "4    19571\n",
            "1    17525\n",
            "5    13851\n",
            "0     4487\n",
            "Name: f10, dtype: int64\n",
            "----\n",
            "3    28577\n",
            "4    24426\n",
            "2    19459\n",
            "1    17562\n",
            "5    13879\n",
            "0        1\n",
            "Name: f11, dtype: int64\n",
            "----\n",
            "4    24359\n",
            "5    22313\n",
            "3    22300\n",
            "2    21988\n",
            "1    12837\n",
            "0      107\n",
            "Name: f12, dtype: int64\n",
            "----\n",
            "4    30762\n",
            "3    21804\n",
            "5    20713\n",
            "2    17505\n",
            "1    10692\n",
            "0     2428\n",
            "Name: f13, dtype: int64\n",
            "----\n",
            "4    31765\n",
            "5    26470\n",
            "3    18696\n",
            "2    14897\n",
            "1    12075\n",
            "0        1\n",
            "Name: f14, dtype: int64\n",
            "----\n",
            "4    29423\n",
            "5    25213\n",
            "3    19139\n",
            "2    17637\n",
            "1    12478\n",
            "0       14\n",
            "Name: f15, dtype: int64\n",
            "----\n",
            "4    30867\n",
            "5    23648\n",
            "3    22833\n",
            "2    14681\n",
            "1    11872\n",
            "0        3\n",
            "Name: f16, dtype: int64\n",
            "----\n",
            "4    28789\n",
            "5    24667\n",
            "3    20098\n",
            "2    19525\n",
            "1    10353\n",
            "0      472\n",
            "Name: f17, dtype: int64\n",
            "----\n",
            "4    37383\n",
            "5    27131\n",
            "3    20632\n",
            "2    11521\n",
            "1     7237\n",
            "Name: f18, dtype: int64\n",
            "----\n",
            "4    29055\n",
            "3    28446\n",
            "5    20619\n",
            "2    12893\n",
            "1    12890\n",
            "0        1\n",
            "Name: f19, dtype: int64\n",
            "----\n",
            "4    37945\n",
            "5    27116\n",
            "3    20299\n",
            "2    11457\n",
            "1     7084\n",
            "0        3\n",
            "Name: f20, dtype: int64\n",
            "----\n",
            "4    27179\n",
            "3    24574\n",
            "5    22689\n",
            "2    16132\n",
            "1    13318\n",
            "0       12\n",
            "Name: f21, dtype: int64\n",
            "----\n",
            "0      58668\n",
            "1       2948\n",
            "2       2274\n",
            "3       2009\n",
            "4       1854\n",
            "       ...  \n",
            "359        1\n",
            "724        1\n",
            "297        1\n",
            "595        1\n",
            "447        1\n",
            "Name: f22, Length: 446, dtype: int64\n",
            "----\n",
            "0.0      58159\n",
            "1.0       2211\n",
            "2.0       2064\n",
            "3.0       1952\n",
            "4.0       1907\n",
            "         ...  \n",
            "823.0        1\n",
            "459.0        1\n",
            "518.0        1\n",
            "370.0        1\n",
            "429.0        1\n",
            "Name: f23, Length: 455, dtype: int64\n",
            "----\n",
            "neutral or dissatisfied    58879\n",
            "satisfied                  45025\n",
            "Name: Satisfaction, dtype: int64\n",
            "----\n"
          ],
          "name": "stdout"
        }
      ]
    },
    {
      "cell_type": "markdown",
      "metadata": {
        "id": "91AvdjWNGrRv"
      },
      "source": [
        "Note that features f21-f8 only take values from 1 to 4, which strongly suggests that they are categorical variables. Moreover, gender, customer type, user, and tier are also categorial variables. This will be useful for us later."
      ]
    },
    {
      "cell_type": "markdown",
      "metadata": {
        "id": "rJwc6aJqGx8B"
      },
      "source": [
        "## Preprocessing the data"
      ]
    },
    {
      "cell_type": "markdown",
      "metadata": {
        "id": "uCUhrrzHH0K0"
      },
      "source": [
        "Let's check to see whether we have some nan values in our dataset."
      ]
    },
    {
      "cell_type": "code",
      "metadata": {
        "id": "7yemsk7I419X",
        "colab": {
          "base_uri": "https://localhost:8080/"
        },
        "outputId": "87e50231-24af-4b97-ab18-19343418ec23"
      },
      "source": [
        "for column_name in n_train_data:\n",
        "    num_nans = n_train_data[column_name].isnull().sum()\n",
        "    if num_nans != 0:\n",
        "        print(\"Column \" + column_name + \" in train set has \" + str(num_nans) + \" nans.\")\n",
        "\n",
        "for column_name in n_test_data:\n",
        "    num_nans = n_test_data[column_name].isnull().sum()\n",
        "    if num_nans != 0:\n",
        "        print(\"Column \" + column_name + \" in test dataset has \" + str(num_nans) + \" nans.\")"
      ],
      "execution_count": null,
      "outputs": [
        {
          "output_type": "stream",
          "text": [
            "Column f23 in train set has 310 nans.\n",
            "Column f23 in test dataset has 83 nans.\n"
          ],
          "name": "stdout"
        }
      ]
    },
    {
      "cell_type": "markdown",
      "metadata": {
        "id": "1rGAvDpNFMu_"
      },
      "source": [
        "Since we seem to have some nan values in the f23 column, we can go ahead and deal with them by imputing them. We will be using sklearn's KNNImputer."
      ]
    },
    {
      "cell_type": "code",
      "metadata": {
        "id": "kneqWira-Bks"
      },
      "source": [
        "from sklearn.impute import KNNImputer\n",
        "numeric_train_data = n_train_data.drop(['Gender', 'Customer Type', 'Use', 'Tier', 'Satisfaction'], axis = 1)\n",
        "numeric_test_data = n_test_data.drop(['Gender', 'Customer Type', 'Use', 'Tier', 'Satisfaction'], axis = 1)\n",
        "\n",
        "\n",
        "knnimputer = KNNImputer(n_neighbors = 3, weights = \"uniform\")\n",
        "imputed_train_data = pd.DataFrame(knnimputer.fit_transform(numeric_train_data))\n",
        "imputed_test_data = pd.DataFrame(knnimputer.transform(numeric_test_data))\n",
        "\n",
        "# Imputation removed column names; put them back\n",
        "imputed_train_data.columns = numeric_train_data.columns\n",
        "imputed_test_data.columns = numeric_test_data.columns"
      ],
      "execution_count": null,
      "outputs": []
    },
    {
      "cell_type": "code",
      "metadata": {
        "colab": {
          "base_uri": "https://localhost:8080/",
          "height": 220
        },
        "id": "G84sn5rFa5h0",
        "outputId": "ae7f9e77-bec9-4bf8-e8db-19595158a01a"
      },
      "source": [
        "num_nans = imputed_train_data['f23'].isnull().sum()\n",
        "print(\"Column \" + 'f23' + \" has \" + str(num_nans) + \" nans.\")\n",
        "imputed_train_data.head()"
      ],
      "execution_count": null,
      "outputs": [
        {
          "output_type": "stream",
          "text": [
            "Column f23 has 0 nans.\n"
          ],
          "name": "stdout"
        },
        {
          "output_type": "execute_result",
          "data": {
            "text/html": [
              "<div>\n",
              "<style scoped>\n",
              "    .dataframe tbody tr th:only-of-type {\n",
              "        vertical-align: middle;\n",
              "    }\n",
              "\n",
              "    .dataframe tbody tr th {\n",
              "        vertical-align: top;\n",
              "    }\n",
              "\n",
              "    .dataframe thead th {\n",
              "        text-align: right;\n",
              "    }\n",
              "</style>\n",
              "<table border=\"1\" class=\"dataframe\">\n",
              "  <thead>\n",
              "    <tr style=\"text-align: right;\">\n",
              "      <th></th>\n",
              "      <th>Age</th>\n",
              "      <th>f7</th>\n",
              "      <th>f8</th>\n",
              "      <th>f9</th>\n",
              "      <th>f10</th>\n",
              "      <th>f11</th>\n",
              "      <th>f12</th>\n",
              "      <th>f13</th>\n",
              "      <th>f14</th>\n",
              "      <th>f15</th>\n",
              "      <th>f16</th>\n",
              "      <th>f17</th>\n",
              "      <th>f18</th>\n",
              "      <th>f19</th>\n",
              "      <th>f20</th>\n",
              "      <th>f21</th>\n",
              "      <th>f22</th>\n",
              "      <th>f23</th>\n",
              "    </tr>\n",
              "  </thead>\n",
              "  <tbody>\n",
              "    <tr>\n",
              "      <th>0</th>\n",
              "      <td>13.0</td>\n",
              "      <td>460.0</td>\n",
              "      <td>3.0</td>\n",
              "      <td>4.0</td>\n",
              "      <td>3.0</td>\n",
              "      <td>1.0</td>\n",
              "      <td>5.0</td>\n",
              "      <td>3.0</td>\n",
              "      <td>5.0</td>\n",
              "      <td>5.0</td>\n",
              "      <td>4.0</td>\n",
              "      <td>3.0</td>\n",
              "      <td>4.0</td>\n",
              "      <td>4.0</td>\n",
              "      <td>5.0</td>\n",
              "      <td>5.0</td>\n",
              "      <td>25.0</td>\n",
              "      <td>18.0</td>\n",
              "    </tr>\n",
              "    <tr>\n",
              "      <th>1</th>\n",
              "      <td>25.0</td>\n",
              "      <td>235.0</td>\n",
              "      <td>3.0</td>\n",
              "      <td>2.0</td>\n",
              "      <td>3.0</td>\n",
              "      <td>3.0</td>\n",
              "      <td>1.0</td>\n",
              "      <td>3.0</td>\n",
              "      <td>1.0</td>\n",
              "      <td>1.0</td>\n",
              "      <td>1.0</td>\n",
              "      <td>5.0</td>\n",
              "      <td>3.0</td>\n",
              "      <td>1.0</td>\n",
              "      <td>4.0</td>\n",
              "      <td>1.0</td>\n",
              "      <td>1.0</td>\n",
              "      <td>6.0</td>\n",
              "    </tr>\n",
              "    <tr>\n",
              "      <th>2</th>\n",
              "      <td>26.0</td>\n",
              "      <td>1142.0</td>\n",
              "      <td>2.0</td>\n",
              "      <td>2.0</td>\n",
              "      <td>2.0</td>\n",
              "      <td>2.0</td>\n",
              "      <td>5.0</td>\n",
              "      <td>5.0</td>\n",
              "      <td>5.0</td>\n",
              "      <td>5.0</td>\n",
              "      <td>4.0</td>\n",
              "      <td>3.0</td>\n",
              "      <td>4.0</td>\n",
              "      <td>4.0</td>\n",
              "      <td>4.0</td>\n",
              "      <td>5.0</td>\n",
              "      <td>0.0</td>\n",
              "      <td>0.0</td>\n",
              "    </tr>\n",
              "    <tr>\n",
              "      <th>3</th>\n",
              "      <td>25.0</td>\n",
              "      <td>562.0</td>\n",
              "      <td>2.0</td>\n",
              "      <td>5.0</td>\n",
              "      <td>5.0</td>\n",
              "      <td>5.0</td>\n",
              "      <td>2.0</td>\n",
              "      <td>2.0</td>\n",
              "      <td>2.0</td>\n",
              "      <td>2.0</td>\n",
              "      <td>2.0</td>\n",
              "      <td>5.0</td>\n",
              "      <td>3.0</td>\n",
              "      <td>1.0</td>\n",
              "      <td>4.0</td>\n",
              "      <td>2.0</td>\n",
              "      <td>11.0</td>\n",
              "      <td>9.0</td>\n",
              "    </tr>\n",
              "    <tr>\n",
              "      <th>4</th>\n",
              "      <td>61.0</td>\n",
              "      <td>214.0</td>\n",
              "      <td>3.0</td>\n",
              "      <td>3.0</td>\n",
              "      <td>3.0</td>\n",
              "      <td>3.0</td>\n",
              "      <td>4.0</td>\n",
              "      <td>5.0</td>\n",
              "      <td>5.0</td>\n",
              "      <td>3.0</td>\n",
              "      <td>3.0</td>\n",
              "      <td>4.0</td>\n",
              "      <td>4.0</td>\n",
              "      <td>3.0</td>\n",
              "      <td>3.0</td>\n",
              "      <td>3.0</td>\n",
              "      <td>0.0</td>\n",
              "      <td>0.0</td>\n",
              "    </tr>\n",
              "  </tbody>\n",
              "</table>\n",
              "</div>"
            ],
            "text/plain": [
              "    Age      f7   f8   f9  f10  f11  f12  ...  f17  f18  f19  f20  f21   f22   f23\n",
              "0  13.0   460.0  3.0  4.0  3.0  1.0  5.0  ...  3.0  4.0  4.0  5.0  5.0  25.0  18.0\n",
              "1  25.0   235.0  3.0  2.0  3.0  3.0  1.0  ...  5.0  3.0  1.0  4.0  1.0   1.0   6.0\n",
              "2  26.0  1142.0  2.0  2.0  2.0  2.0  5.0  ...  3.0  4.0  4.0  4.0  5.0   0.0   0.0\n",
              "3  25.0   562.0  2.0  5.0  5.0  5.0  2.0  ...  5.0  3.0  1.0  4.0  2.0  11.0   9.0\n",
              "4  61.0   214.0  3.0  3.0  3.0  3.0  4.0  ...  4.0  4.0  3.0  3.0  3.0   0.0   0.0\n",
              "\n",
              "[5 rows x 18 columns]"
            ]
          },
          "metadata": {
            "tags": []
          },
          "execution_count": 7
        }
      ]
    },
    {
      "cell_type": "code",
      "metadata": {
        "colab": {
          "base_uri": "https://localhost:8080/",
          "height": 220
        },
        "id": "G_vVYNxLeGum",
        "outputId": "47c44ecc-032a-49b5-f589-f569d9418a2b"
      },
      "source": [
        "num_nans = imputed_test_data['f23'].isnull().sum()\n",
        "print(\"Column \" + 'f23' + \" has \" + str(num_nans) + \" nans.\")\n",
        "imputed_test_data.head()"
      ],
      "execution_count": null,
      "outputs": [
        {
          "output_type": "stream",
          "text": [
            "Column f23 has 0 nans.\n"
          ],
          "name": "stdout"
        },
        {
          "output_type": "execute_result",
          "data": {
            "text/html": [
              "<div>\n",
              "<style scoped>\n",
              "    .dataframe tbody tr th:only-of-type {\n",
              "        vertical-align: middle;\n",
              "    }\n",
              "\n",
              "    .dataframe tbody tr th {\n",
              "        vertical-align: top;\n",
              "    }\n",
              "\n",
              "    .dataframe thead th {\n",
              "        text-align: right;\n",
              "    }\n",
              "</style>\n",
              "<table border=\"1\" class=\"dataframe\">\n",
              "  <thead>\n",
              "    <tr style=\"text-align: right;\">\n",
              "      <th></th>\n",
              "      <th>Age</th>\n",
              "      <th>f7</th>\n",
              "      <th>f8</th>\n",
              "      <th>f9</th>\n",
              "      <th>f10</th>\n",
              "      <th>f11</th>\n",
              "      <th>f12</th>\n",
              "      <th>f13</th>\n",
              "      <th>f14</th>\n",
              "      <th>f15</th>\n",
              "      <th>f16</th>\n",
              "      <th>f17</th>\n",
              "      <th>f18</th>\n",
              "      <th>f19</th>\n",
              "      <th>f20</th>\n",
              "      <th>f21</th>\n",
              "      <th>f22</th>\n",
              "      <th>f23</th>\n",
              "    </tr>\n",
              "  </thead>\n",
              "  <tbody>\n",
              "    <tr>\n",
              "      <th>0</th>\n",
              "      <td>52.0</td>\n",
              "      <td>160.0</td>\n",
              "      <td>5.0</td>\n",
              "      <td>4.0</td>\n",
              "      <td>3.0</td>\n",
              "      <td>4.0</td>\n",
              "      <td>3.0</td>\n",
              "      <td>4.0</td>\n",
              "      <td>3.0</td>\n",
              "      <td>5.0</td>\n",
              "      <td>5.0</td>\n",
              "      <td>5.0</td>\n",
              "      <td>5.0</td>\n",
              "      <td>2.0</td>\n",
              "      <td>5.0</td>\n",
              "      <td>5.0</td>\n",
              "      <td>50.0</td>\n",
              "      <td>44.0</td>\n",
              "    </tr>\n",
              "    <tr>\n",
              "      <th>1</th>\n",
              "      <td>36.0</td>\n",
              "      <td>2863.0</td>\n",
              "      <td>1.0</td>\n",
              "      <td>1.0</td>\n",
              "      <td>3.0</td>\n",
              "      <td>1.0</td>\n",
              "      <td>5.0</td>\n",
              "      <td>4.0</td>\n",
              "      <td>5.0</td>\n",
              "      <td>4.0</td>\n",
              "      <td>4.0</td>\n",
              "      <td>4.0</td>\n",
              "      <td>4.0</td>\n",
              "      <td>3.0</td>\n",
              "      <td>4.0</td>\n",
              "      <td>5.0</td>\n",
              "      <td>0.0</td>\n",
              "      <td>0.0</td>\n",
              "    </tr>\n",
              "    <tr>\n",
              "      <th>2</th>\n",
              "      <td>20.0</td>\n",
              "      <td>192.0</td>\n",
              "      <td>2.0</td>\n",
              "      <td>0.0</td>\n",
              "      <td>2.0</td>\n",
              "      <td>4.0</td>\n",
              "      <td>2.0</td>\n",
              "      <td>2.0</td>\n",
              "      <td>2.0</td>\n",
              "      <td>2.0</td>\n",
              "      <td>4.0</td>\n",
              "      <td>1.0</td>\n",
              "      <td>3.0</td>\n",
              "      <td>2.0</td>\n",
              "      <td>2.0</td>\n",
              "      <td>2.0</td>\n",
              "      <td>0.0</td>\n",
              "      <td>0.0</td>\n",
              "    </tr>\n",
              "    <tr>\n",
              "      <th>3</th>\n",
              "      <td>44.0</td>\n",
              "      <td>3377.0</td>\n",
              "      <td>0.0</td>\n",
              "      <td>0.0</td>\n",
              "      <td>0.0</td>\n",
              "      <td>2.0</td>\n",
              "      <td>3.0</td>\n",
              "      <td>4.0</td>\n",
              "      <td>4.0</td>\n",
              "      <td>1.0</td>\n",
              "      <td>1.0</td>\n",
              "      <td>1.0</td>\n",
              "      <td>1.0</td>\n",
              "      <td>3.0</td>\n",
              "      <td>1.0</td>\n",
              "      <td>4.0</td>\n",
              "      <td>0.0</td>\n",
              "      <td>6.0</td>\n",
              "    </tr>\n",
              "    <tr>\n",
              "      <th>4</th>\n",
              "      <td>49.0</td>\n",
              "      <td>1182.0</td>\n",
              "      <td>2.0</td>\n",
              "      <td>3.0</td>\n",
              "      <td>4.0</td>\n",
              "      <td>3.0</td>\n",
              "      <td>4.0</td>\n",
              "      <td>1.0</td>\n",
              "      <td>2.0</td>\n",
              "      <td>2.0</td>\n",
              "      <td>2.0</td>\n",
              "      <td>2.0</td>\n",
              "      <td>2.0</td>\n",
              "      <td>4.0</td>\n",
              "      <td>2.0</td>\n",
              "      <td>4.0</td>\n",
              "      <td>0.0</td>\n",
              "      <td>20.0</td>\n",
              "    </tr>\n",
              "  </tbody>\n",
              "</table>\n",
              "</div>"
            ],
            "text/plain": [
              "    Age      f7   f8   f9  f10  f11  f12  ...  f17  f18  f19  f20  f21   f22   f23\n",
              "0  52.0   160.0  5.0  4.0  3.0  4.0  3.0  ...  5.0  5.0  2.0  5.0  5.0  50.0  44.0\n",
              "1  36.0  2863.0  1.0  1.0  3.0  1.0  5.0  ...  4.0  4.0  3.0  4.0  5.0   0.0   0.0\n",
              "2  20.0   192.0  2.0  0.0  2.0  4.0  2.0  ...  1.0  3.0  2.0  2.0  2.0   0.0   0.0\n",
              "3  44.0  3377.0  0.0  0.0  0.0  2.0  3.0  ...  1.0  1.0  3.0  1.0  4.0   0.0   6.0\n",
              "4  49.0  1182.0  2.0  3.0  4.0  3.0  4.0  ...  2.0  2.0  4.0  2.0  4.0   0.0  20.0\n",
              "\n",
              "[5 rows x 18 columns]"
            ]
          },
          "metadata": {
            "tags": []
          },
          "execution_count": 8
        }
      ]
    },
    {
      "cell_type": "code",
      "metadata": {
        "colab": {
          "base_uri": "https://localhost:8080/",
          "height": 220
        },
        "id": "ZHdWWtxGfIQm",
        "outputId": "d74f04e3-6cb2-4bc7-e38c-0a0e8d7fdfd1"
      },
      "source": [
        "numeric_features = ['Age'] + ['f' + str(i) for i in range(7,24)]\n",
        "\n",
        "n_train_data[numeric_features] = imputed_train_data[numeric_features]\n",
        "num_nans = n_train_data['f23'].isnull().sum()\n",
        "print(\"Column \" + 'f23' + \" has \" + str(num_nans) + \" nans.\")\n",
        "n_train_data.head()"
      ],
      "execution_count": null,
      "outputs": [
        {
          "output_type": "stream",
          "text": [
            "Column f23 has 0 nans.\n"
          ],
          "name": "stdout"
        },
        {
          "output_type": "execute_result",
          "data": {
            "text/html": [
              "<div>\n",
              "<style scoped>\n",
              "    .dataframe tbody tr th:only-of-type {\n",
              "        vertical-align: middle;\n",
              "    }\n",
              "\n",
              "    .dataframe tbody tr th {\n",
              "        vertical-align: top;\n",
              "    }\n",
              "\n",
              "    .dataframe thead th {\n",
              "        text-align: right;\n",
              "    }\n",
              "</style>\n",
              "<table border=\"1\" class=\"dataframe\">\n",
              "  <thead>\n",
              "    <tr style=\"text-align: right;\">\n",
              "      <th></th>\n",
              "      <th>Gender</th>\n",
              "      <th>Customer Type</th>\n",
              "      <th>Age</th>\n",
              "      <th>Use</th>\n",
              "      <th>Tier</th>\n",
              "      <th>f7</th>\n",
              "      <th>f8</th>\n",
              "      <th>f9</th>\n",
              "      <th>f10</th>\n",
              "      <th>f11</th>\n",
              "      <th>f12</th>\n",
              "      <th>f13</th>\n",
              "      <th>f14</th>\n",
              "      <th>f15</th>\n",
              "      <th>f16</th>\n",
              "      <th>f17</th>\n",
              "      <th>f18</th>\n",
              "      <th>f19</th>\n",
              "      <th>f20</th>\n",
              "      <th>f21</th>\n",
              "      <th>f22</th>\n",
              "      <th>f23</th>\n",
              "      <th>Satisfaction</th>\n",
              "    </tr>\n",
              "  </thead>\n",
              "  <tbody>\n",
              "    <tr>\n",
              "      <th>0</th>\n",
              "      <td>Male</td>\n",
              "      <td>Loyal Customer</td>\n",
              "      <td>13.0</td>\n",
              "      <td>Personal</td>\n",
              "      <td>Free Plus</td>\n",
              "      <td>460.0</td>\n",
              "      <td>3.0</td>\n",
              "      <td>4.0</td>\n",
              "      <td>3.0</td>\n",
              "      <td>1.0</td>\n",
              "      <td>5.0</td>\n",
              "      <td>3.0</td>\n",
              "      <td>5.0</td>\n",
              "      <td>5.0</td>\n",
              "      <td>4.0</td>\n",
              "      <td>3.0</td>\n",
              "      <td>4.0</td>\n",
              "      <td>4.0</td>\n",
              "      <td>5.0</td>\n",
              "      <td>5.0</td>\n",
              "      <td>25.0</td>\n",
              "      <td>18.0</td>\n",
              "      <td>neutral or dissatisfied</td>\n",
              "    </tr>\n",
              "    <tr>\n",
              "      <th>1</th>\n",
              "      <td>Male</td>\n",
              "      <td>disloyal Customer</td>\n",
              "      <td>25.0</td>\n",
              "      <td>Business</td>\n",
              "      <td>Premium</td>\n",
              "      <td>235.0</td>\n",
              "      <td>3.0</td>\n",
              "      <td>2.0</td>\n",
              "      <td>3.0</td>\n",
              "      <td>3.0</td>\n",
              "      <td>1.0</td>\n",
              "      <td>3.0</td>\n",
              "      <td>1.0</td>\n",
              "      <td>1.0</td>\n",
              "      <td>1.0</td>\n",
              "      <td>5.0</td>\n",
              "      <td>3.0</td>\n",
              "      <td>1.0</td>\n",
              "      <td>4.0</td>\n",
              "      <td>1.0</td>\n",
              "      <td>1.0</td>\n",
              "      <td>6.0</td>\n",
              "      <td>neutral or dissatisfied</td>\n",
              "    </tr>\n",
              "    <tr>\n",
              "      <th>2</th>\n",
              "      <td>Female</td>\n",
              "      <td>Loyal Customer</td>\n",
              "      <td>26.0</td>\n",
              "      <td>Business</td>\n",
              "      <td>Premium</td>\n",
              "      <td>1142.0</td>\n",
              "      <td>2.0</td>\n",
              "      <td>2.0</td>\n",
              "      <td>2.0</td>\n",
              "      <td>2.0</td>\n",
              "      <td>5.0</td>\n",
              "      <td>5.0</td>\n",
              "      <td>5.0</td>\n",
              "      <td>5.0</td>\n",
              "      <td>4.0</td>\n",
              "      <td>3.0</td>\n",
              "      <td>4.0</td>\n",
              "      <td>4.0</td>\n",
              "      <td>4.0</td>\n",
              "      <td>5.0</td>\n",
              "      <td>0.0</td>\n",
              "      <td>0.0</td>\n",
              "      <td>satisfied</td>\n",
              "    </tr>\n",
              "    <tr>\n",
              "      <th>3</th>\n",
              "      <td>Female</td>\n",
              "      <td>Loyal Customer</td>\n",
              "      <td>25.0</td>\n",
              "      <td>Business</td>\n",
              "      <td>Premium</td>\n",
              "      <td>562.0</td>\n",
              "      <td>2.0</td>\n",
              "      <td>5.0</td>\n",
              "      <td>5.0</td>\n",
              "      <td>5.0</td>\n",
              "      <td>2.0</td>\n",
              "      <td>2.0</td>\n",
              "      <td>2.0</td>\n",
              "      <td>2.0</td>\n",
              "      <td>2.0</td>\n",
              "      <td>5.0</td>\n",
              "      <td>3.0</td>\n",
              "      <td>1.0</td>\n",
              "      <td>4.0</td>\n",
              "      <td>2.0</td>\n",
              "      <td>11.0</td>\n",
              "      <td>9.0</td>\n",
              "      <td>neutral or dissatisfied</td>\n",
              "    </tr>\n",
              "    <tr>\n",
              "      <th>4</th>\n",
              "      <td>Male</td>\n",
              "      <td>Loyal Customer</td>\n",
              "      <td>61.0</td>\n",
              "      <td>Business</td>\n",
              "      <td>Premium</td>\n",
              "      <td>214.0</td>\n",
              "      <td>3.0</td>\n",
              "      <td>3.0</td>\n",
              "      <td>3.0</td>\n",
              "      <td>3.0</td>\n",
              "      <td>4.0</td>\n",
              "      <td>5.0</td>\n",
              "      <td>5.0</td>\n",
              "      <td>3.0</td>\n",
              "      <td>3.0</td>\n",
              "      <td>4.0</td>\n",
              "      <td>4.0</td>\n",
              "      <td>3.0</td>\n",
              "      <td>3.0</td>\n",
              "      <td>3.0</td>\n",
              "      <td>0.0</td>\n",
              "      <td>0.0</td>\n",
              "      <td>satisfied</td>\n",
              "    </tr>\n",
              "  </tbody>\n",
              "</table>\n",
              "</div>"
            ],
            "text/plain": [
              "   Gender      Customer Type   Age  ...   f22   f23             Satisfaction\n",
              "0    Male     Loyal Customer  13.0  ...  25.0  18.0  neutral or dissatisfied\n",
              "1    Male  disloyal Customer  25.0  ...   1.0   6.0  neutral or dissatisfied\n",
              "2  Female     Loyal Customer  26.0  ...   0.0   0.0                satisfied\n",
              "3  Female     Loyal Customer  25.0  ...  11.0   9.0  neutral or dissatisfied\n",
              "4    Male     Loyal Customer  61.0  ...   0.0   0.0                satisfied\n",
              "\n",
              "[5 rows x 23 columns]"
            ]
          },
          "metadata": {
            "tags": []
          },
          "execution_count": 9
        }
      ]
    },
    {
      "cell_type": "code",
      "metadata": {
        "colab": {
          "base_uri": "https://localhost:8080/",
          "height": 220
        },
        "id": "hza53k5UfzO8",
        "outputId": "0da97d6e-43be-4a6e-9679-4a7fd5c31aac"
      },
      "source": [
        "n_test_data[numeric_features] = imputed_test_data[numeric_features]\n",
        "num_nans = n_test_data['f23'].isnull().sum()\n",
        "print(\"Column \" + 'f23' + \" has \" + str(num_nans) + \" nans.\")\n",
        "n_test_data.head()"
      ],
      "execution_count": null,
      "outputs": [
        {
          "output_type": "stream",
          "text": [
            "Column f23 has 0 nans.\n"
          ],
          "name": "stdout"
        },
        {
          "output_type": "execute_result",
          "data": {
            "text/html": [
              "<div>\n",
              "<style scoped>\n",
              "    .dataframe tbody tr th:only-of-type {\n",
              "        vertical-align: middle;\n",
              "    }\n",
              "\n",
              "    .dataframe tbody tr th {\n",
              "        vertical-align: top;\n",
              "    }\n",
              "\n",
              "    .dataframe thead th {\n",
              "        text-align: right;\n",
              "    }\n",
              "</style>\n",
              "<table border=\"1\" class=\"dataframe\">\n",
              "  <thead>\n",
              "    <tr style=\"text-align: right;\">\n",
              "      <th></th>\n",
              "      <th>Gender</th>\n",
              "      <th>Customer Type</th>\n",
              "      <th>Age</th>\n",
              "      <th>Use</th>\n",
              "      <th>Tier</th>\n",
              "      <th>f7</th>\n",
              "      <th>f8</th>\n",
              "      <th>f9</th>\n",
              "      <th>f10</th>\n",
              "      <th>f11</th>\n",
              "      <th>f12</th>\n",
              "      <th>f13</th>\n",
              "      <th>f14</th>\n",
              "      <th>f15</th>\n",
              "      <th>f16</th>\n",
              "      <th>f17</th>\n",
              "      <th>f18</th>\n",
              "      <th>f19</th>\n",
              "      <th>f20</th>\n",
              "      <th>f21</th>\n",
              "      <th>f22</th>\n",
              "      <th>f23</th>\n",
              "      <th>Satisfaction</th>\n",
              "    </tr>\n",
              "  </thead>\n",
              "  <tbody>\n",
              "    <tr>\n",
              "      <th>0</th>\n",
              "      <td>Female</td>\n",
              "      <td>Loyal Customer</td>\n",
              "      <td>52.0</td>\n",
              "      <td>Business</td>\n",
              "      <td>Free</td>\n",
              "      <td>160.0</td>\n",
              "      <td>5.0</td>\n",
              "      <td>4.0</td>\n",
              "      <td>3.0</td>\n",
              "      <td>4.0</td>\n",
              "      <td>3.0</td>\n",
              "      <td>4.0</td>\n",
              "      <td>3.0</td>\n",
              "      <td>5.0</td>\n",
              "      <td>5.0</td>\n",
              "      <td>5.0</td>\n",
              "      <td>5.0</td>\n",
              "      <td>2.0</td>\n",
              "      <td>5.0</td>\n",
              "      <td>5.0</td>\n",
              "      <td>50.0</td>\n",
              "      <td>44.0</td>\n",
              "      <td>satisfied</td>\n",
              "    </tr>\n",
              "    <tr>\n",
              "      <th>1</th>\n",
              "      <td>Female</td>\n",
              "      <td>Loyal Customer</td>\n",
              "      <td>36.0</td>\n",
              "      <td>Business</td>\n",
              "      <td>Premium</td>\n",
              "      <td>2863.0</td>\n",
              "      <td>1.0</td>\n",
              "      <td>1.0</td>\n",
              "      <td>3.0</td>\n",
              "      <td>1.0</td>\n",
              "      <td>5.0</td>\n",
              "      <td>4.0</td>\n",
              "      <td>5.0</td>\n",
              "      <td>4.0</td>\n",
              "      <td>4.0</td>\n",
              "      <td>4.0</td>\n",
              "      <td>4.0</td>\n",
              "      <td>3.0</td>\n",
              "      <td>4.0</td>\n",
              "      <td>5.0</td>\n",
              "      <td>0.0</td>\n",
              "      <td>0.0</td>\n",
              "      <td>satisfied</td>\n",
              "    </tr>\n",
              "    <tr>\n",
              "      <th>2</th>\n",
              "      <td>Male</td>\n",
              "      <td>disloyal Customer</td>\n",
              "      <td>20.0</td>\n",
              "      <td>Business</td>\n",
              "      <td>Free</td>\n",
              "      <td>192.0</td>\n",
              "      <td>2.0</td>\n",
              "      <td>0.0</td>\n",
              "      <td>2.0</td>\n",
              "      <td>4.0</td>\n",
              "      <td>2.0</td>\n",
              "      <td>2.0</td>\n",
              "      <td>2.0</td>\n",
              "      <td>2.0</td>\n",
              "      <td>4.0</td>\n",
              "      <td>1.0</td>\n",
              "      <td>3.0</td>\n",
              "      <td>2.0</td>\n",
              "      <td>2.0</td>\n",
              "      <td>2.0</td>\n",
              "      <td>0.0</td>\n",
              "      <td>0.0</td>\n",
              "      <td>neutral or dissatisfied</td>\n",
              "    </tr>\n",
              "    <tr>\n",
              "      <th>3</th>\n",
              "      <td>Male</td>\n",
              "      <td>Loyal Customer</td>\n",
              "      <td>44.0</td>\n",
              "      <td>Business</td>\n",
              "      <td>Premium</td>\n",
              "      <td>3377.0</td>\n",
              "      <td>0.0</td>\n",
              "      <td>0.0</td>\n",
              "      <td>0.0</td>\n",
              "      <td>2.0</td>\n",
              "      <td>3.0</td>\n",
              "      <td>4.0</td>\n",
              "      <td>4.0</td>\n",
              "      <td>1.0</td>\n",
              "      <td>1.0</td>\n",
              "      <td>1.0</td>\n",
              "      <td>1.0</td>\n",
              "      <td>3.0</td>\n",
              "      <td>1.0</td>\n",
              "      <td>4.0</td>\n",
              "      <td>0.0</td>\n",
              "      <td>6.0</td>\n",
              "      <td>satisfied</td>\n",
              "    </tr>\n",
              "    <tr>\n",
              "      <th>4</th>\n",
              "      <td>Female</td>\n",
              "      <td>Loyal Customer</td>\n",
              "      <td>49.0</td>\n",
              "      <td>Business</td>\n",
              "      <td>Free</td>\n",
              "      <td>1182.0</td>\n",
              "      <td>2.0</td>\n",
              "      <td>3.0</td>\n",
              "      <td>4.0</td>\n",
              "      <td>3.0</td>\n",
              "      <td>4.0</td>\n",
              "      <td>1.0</td>\n",
              "      <td>2.0</td>\n",
              "      <td>2.0</td>\n",
              "      <td>2.0</td>\n",
              "      <td>2.0</td>\n",
              "      <td>2.0</td>\n",
              "      <td>4.0</td>\n",
              "      <td>2.0</td>\n",
              "      <td>4.0</td>\n",
              "      <td>0.0</td>\n",
              "      <td>20.0</td>\n",
              "      <td>satisfied</td>\n",
              "    </tr>\n",
              "  </tbody>\n",
              "</table>\n",
              "</div>"
            ],
            "text/plain": [
              "   Gender      Customer Type   Age  ...   f22   f23             Satisfaction\n",
              "0  Female     Loyal Customer  52.0  ...  50.0  44.0                satisfied\n",
              "1  Female     Loyal Customer  36.0  ...   0.0   0.0                satisfied\n",
              "2    Male  disloyal Customer  20.0  ...   0.0   0.0  neutral or dissatisfied\n",
              "3    Male     Loyal Customer  44.0  ...   0.0   6.0                satisfied\n",
              "4  Female     Loyal Customer  49.0  ...   0.0  20.0                satisfied\n",
              "\n",
              "[5 rows x 23 columns]"
            ]
          },
          "metadata": {
            "tags": []
          },
          "execution_count": 10
        }
      ]
    },
    {
      "cell_type": "markdown",
      "metadata": {
        "id": "ydrb8NQjIFO2"
      },
      "source": [
        "We've gone ahead and imputed our data, so we no longer have to deal with nan values in our dataset. Do note that many variables that used to be ints in our original dataset are now floats.\n",
        "\n",
        "Now, we're going to try and map Male, Customer Type, Use, and Tier values to numbers so that they can be input to classifiers."
      ]
    },
    {
      "cell_type": "code",
      "metadata": {
        "id": "2ngS_ka4f_D3"
      },
      "source": [
        "customer_type_map = {'Loyal Customer': 1, 'disloyal Customer': 0}\n",
        "use_map = {'Business': 1, 'Personal': 0}\n",
        "tier_map = {'Free': 0, 'Free Plus': 1, 'Premium': 2}\n",
        "gender_map = {'Male': 0, 'Female': 1}\n",
        "satisfaction_map = {'neutral or dissatisfied': 0, 'satisfied': 1}\n",
        "maps = [customer_type_map, use_map, tier_map, gender_map, satisfaction_map]\n",
        "\n",
        "original_features = ['Customer Type', 'Use', 'Tier', 'Gender', 'Satisfaction']\n",
        "new_features = ['CustomerTypeNumber', 'UseNumber', 'TierNumber', 'GenderNumber', 'SatisfactionNumber']\n",
        "\n",
        "i = 0\n",
        "for old, new in zip(original_features, new_features):\n",
        "  n_train_data[new] = n_train_data[old].replace(maps[i])\n",
        "  n_test_data[new] = n_test_data[old].replace(maps[i])\n",
        "  i += 1"
      ],
      "execution_count": null,
      "outputs": []
    },
    {
      "cell_type": "code",
      "metadata": {
        "colab": {
          "base_uri": "https://localhost:8080/",
          "height": 326
        },
        "id": "hmrrcslsrJ9O",
        "outputId": "6917495b-517c-478c-b5ce-17f65ba094fd"
      },
      "source": [
        "n_train_data.head()"
      ],
      "execution_count": null,
      "outputs": [
        {
          "output_type": "execute_result",
          "data": {
            "text/html": [
              "<div>\n",
              "<style scoped>\n",
              "    .dataframe tbody tr th:only-of-type {\n",
              "        vertical-align: middle;\n",
              "    }\n",
              "\n",
              "    .dataframe tbody tr th {\n",
              "        vertical-align: top;\n",
              "    }\n",
              "\n",
              "    .dataframe thead th {\n",
              "        text-align: right;\n",
              "    }\n",
              "</style>\n",
              "<table border=\"1\" class=\"dataframe\">\n",
              "  <thead>\n",
              "    <tr style=\"text-align: right;\">\n",
              "      <th></th>\n",
              "      <th>Gender</th>\n",
              "      <th>Customer Type</th>\n",
              "      <th>Age</th>\n",
              "      <th>Use</th>\n",
              "      <th>Tier</th>\n",
              "      <th>f7</th>\n",
              "      <th>f8</th>\n",
              "      <th>f9</th>\n",
              "      <th>f10</th>\n",
              "      <th>f11</th>\n",
              "      <th>f12</th>\n",
              "      <th>f13</th>\n",
              "      <th>f14</th>\n",
              "      <th>f15</th>\n",
              "      <th>f16</th>\n",
              "      <th>f17</th>\n",
              "      <th>f18</th>\n",
              "      <th>f19</th>\n",
              "      <th>f20</th>\n",
              "      <th>f21</th>\n",
              "      <th>f22</th>\n",
              "      <th>f23</th>\n",
              "      <th>Satisfaction</th>\n",
              "      <th>CustomerTypeNumber</th>\n",
              "      <th>UseNumber</th>\n",
              "      <th>TierNumber</th>\n",
              "      <th>GenderNumber</th>\n",
              "      <th>SatisfactionNumber</th>\n",
              "    </tr>\n",
              "  </thead>\n",
              "  <tbody>\n",
              "    <tr>\n",
              "      <th>0</th>\n",
              "      <td>Male</td>\n",
              "      <td>Loyal Customer</td>\n",
              "      <td>13.0</td>\n",
              "      <td>Personal</td>\n",
              "      <td>Free Plus</td>\n",
              "      <td>460.0</td>\n",
              "      <td>3.0</td>\n",
              "      <td>4.0</td>\n",
              "      <td>3.0</td>\n",
              "      <td>1.0</td>\n",
              "      <td>5.0</td>\n",
              "      <td>3.0</td>\n",
              "      <td>5.0</td>\n",
              "      <td>5.0</td>\n",
              "      <td>4.0</td>\n",
              "      <td>3.0</td>\n",
              "      <td>4.0</td>\n",
              "      <td>4.0</td>\n",
              "      <td>5.0</td>\n",
              "      <td>5.0</td>\n",
              "      <td>25.0</td>\n",
              "      <td>18.0</td>\n",
              "      <td>neutral or dissatisfied</td>\n",
              "      <td>1</td>\n",
              "      <td>0</td>\n",
              "      <td>1</td>\n",
              "      <td>0</td>\n",
              "      <td>0</td>\n",
              "    </tr>\n",
              "    <tr>\n",
              "      <th>1</th>\n",
              "      <td>Male</td>\n",
              "      <td>disloyal Customer</td>\n",
              "      <td>25.0</td>\n",
              "      <td>Business</td>\n",
              "      <td>Premium</td>\n",
              "      <td>235.0</td>\n",
              "      <td>3.0</td>\n",
              "      <td>2.0</td>\n",
              "      <td>3.0</td>\n",
              "      <td>3.0</td>\n",
              "      <td>1.0</td>\n",
              "      <td>3.0</td>\n",
              "      <td>1.0</td>\n",
              "      <td>1.0</td>\n",
              "      <td>1.0</td>\n",
              "      <td>5.0</td>\n",
              "      <td>3.0</td>\n",
              "      <td>1.0</td>\n",
              "      <td>4.0</td>\n",
              "      <td>1.0</td>\n",
              "      <td>1.0</td>\n",
              "      <td>6.0</td>\n",
              "      <td>neutral or dissatisfied</td>\n",
              "      <td>0</td>\n",
              "      <td>1</td>\n",
              "      <td>2</td>\n",
              "      <td>0</td>\n",
              "      <td>0</td>\n",
              "    </tr>\n",
              "    <tr>\n",
              "      <th>2</th>\n",
              "      <td>Female</td>\n",
              "      <td>Loyal Customer</td>\n",
              "      <td>26.0</td>\n",
              "      <td>Business</td>\n",
              "      <td>Premium</td>\n",
              "      <td>1142.0</td>\n",
              "      <td>2.0</td>\n",
              "      <td>2.0</td>\n",
              "      <td>2.0</td>\n",
              "      <td>2.0</td>\n",
              "      <td>5.0</td>\n",
              "      <td>5.0</td>\n",
              "      <td>5.0</td>\n",
              "      <td>5.0</td>\n",
              "      <td>4.0</td>\n",
              "      <td>3.0</td>\n",
              "      <td>4.0</td>\n",
              "      <td>4.0</td>\n",
              "      <td>4.0</td>\n",
              "      <td>5.0</td>\n",
              "      <td>0.0</td>\n",
              "      <td>0.0</td>\n",
              "      <td>satisfied</td>\n",
              "      <td>1</td>\n",
              "      <td>1</td>\n",
              "      <td>2</td>\n",
              "      <td>1</td>\n",
              "      <td>1</td>\n",
              "    </tr>\n",
              "    <tr>\n",
              "      <th>3</th>\n",
              "      <td>Female</td>\n",
              "      <td>Loyal Customer</td>\n",
              "      <td>25.0</td>\n",
              "      <td>Business</td>\n",
              "      <td>Premium</td>\n",
              "      <td>562.0</td>\n",
              "      <td>2.0</td>\n",
              "      <td>5.0</td>\n",
              "      <td>5.0</td>\n",
              "      <td>5.0</td>\n",
              "      <td>2.0</td>\n",
              "      <td>2.0</td>\n",
              "      <td>2.0</td>\n",
              "      <td>2.0</td>\n",
              "      <td>2.0</td>\n",
              "      <td>5.0</td>\n",
              "      <td>3.0</td>\n",
              "      <td>1.0</td>\n",
              "      <td>4.0</td>\n",
              "      <td>2.0</td>\n",
              "      <td>11.0</td>\n",
              "      <td>9.0</td>\n",
              "      <td>neutral or dissatisfied</td>\n",
              "      <td>1</td>\n",
              "      <td>1</td>\n",
              "      <td>2</td>\n",
              "      <td>1</td>\n",
              "      <td>0</td>\n",
              "    </tr>\n",
              "    <tr>\n",
              "      <th>4</th>\n",
              "      <td>Male</td>\n",
              "      <td>Loyal Customer</td>\n",
              "      <td>61.0</td>\n",
              "      <td>Business</td>\n",
              "      <td>Premium</td>\n",
              "      <td>214.0</td>\n",
              "      <td>3.0</td>\n",
              "      <td>3.0</td>\n",
              "      <td>3.0</td>\n",
              "      <td>3.0</td>\n",
              "      <td>4.0</td>\n",
              "      <td>5.0</td>\n",
              "      <td>5.0</td>\n",
              "      <td>3.0</td>\n",
              "      <td>3.0</td>\n",
              "      <td>4.0</td>\n",
              "      <td>4.0</td>\n",
              "      <td>3.0</td>\n",
              "      <td>3.0</td>\n",
              "      <td>3.0</td>\n",
              "      <td>0.0</td>\n",
              "      <td>0.0</td>\n",
              "      <td>satisfied</td>\n",
              "      <td>1</td>\n",
              "      <td>1</td>\n",
              "      <td>2</td>\n",
              "      <td>0</td>\n",
              "      <td>1</td>\n",
              "    </tr>\n",
              "  </tbody>\n",
              "</table>\n",
              "</div>"
            ],
            "text/plain": [
              "   Gender      Customer Type  ...  GenderNumber SatisfactionNumber\n",
              "0    Male     Loyal Customer  ...             0                  0\n",
              "1    Male  disloyal Customer  ...             0                  0\n",
              "2  Female     Loyal Customer  ...             1                  1\n",
              "3  Female     Loyal Customer  ...             1                  0\n",
              "4    Male     Loyal Customer  ...             0                  1\n",
              "\n",
              "[5 rows x 28 columns]"
            ]
          },
          "metadata": {
            "tags": []
          },
          "execution_count": 12
        }
      ]
    },
    {
      "cell_type": "markdown",
      "metadata": {
        "id": "_qDiww1AI1y-"
      },
      "source": [
        "Now we are ready to split our datasets into features and labels, which will let us get started on experimenting with different models."
      ]
    },
    {
      "cell_type": "code",
      "metadata": {
        "id": "3VkAO2BOuqTr"
      },
      "source": [
        "features = ['f' + str(i) for i in range(7, 24)] + ['GenderNumber', 'CustomerTypeNumber', 'Age', 'UseNumber', 'TierNumber']\n",
        "label = 'SatisfactionNumber'\n",
        "\n",
        "X_train, y_train = n_train_data[features], n_train_data[label]\n",
        "X_test, y_test = n_test_data[features], n_test_data[label]"
      ],
      "execution_count": null,
      "outputs": []
    },
    {
      "cell_type": "markdown",
      "metadata": {
        "id": "rZTkHegyHTHA"
      },
      "source": [
        "## Experimenting with models\n",
        "\n",
        "Here, we will explore multiple different models and see which sorts of architectures perform the best."
      ]
    },
    {
      "cell_type": "code",
      "metadata": {
        "id": "eOaanJ0jv4Yf"
      },
      "source": [
        "from sklearn.linear_model import LogisticRegression\n",
        "from sklearn.neighbors import KNeighborsClassifier\n",
        "from sklearn.tree import DecisionTreeClassifier\n",
        "from sklearn.ensemble import RandomForestClassifier, AdaBoostClassifier\n",
        "from sklearn.neural_network import MLPClassifier\n",
        "from sklearn.naive_bayes import GaussianNB\n",
        "\n",
        "max_iter = 10000000\n",
        "\n",
        "classifiers = [\n",
        "    LogisticRegression(max_iter=max_iter),\n",
        "    KNeighborsClassifier(3),\n",
        "    DecisionTreeClassifier(max_depth=5),\n",
        "    RandomForestClassifier(max_depth=5, n_estimators=10, max_features=1),\n",
        "    MLPClassifier(alpha=1, max_iter=max_iter),\n",
        "    AdaBoostClassifier(),\n",
        "    GaussianNB()\n",
        "    ] "
      ],
      "execution_count": null,
      "outputs": []
    },
    {
      "cell_type": "code",
      "metadata": {
        "colab": {
          "base_uri": "https://localhost:8080/"
        },
        "id": "J5s9cNNTyknx",
        "outputId": "18d80daf-bf78-435d-8085-10ba4fc07187"
      },
      "source": [
        "print(\"-------------\")\n",
        "for classifier in classifiers:\n",
        "    print(str(classifier) + '\\n')\n",
        "    classifier.fit(X_train, y_train)\n",
        "    y_pred_train = classifier.predict(X_train)\n",
        "    y_pred_test = classifier.predict(X_test)\n",
        "    print(\"Train Accuracy: \", metrics.accuracy_score(y_train, y_pred_train))\n",
        "    print(\"Test Accuracy: \", metrics.accuracy_score(y_test, y_pred_test))\n",
        "    print(\"-------------\")"
      ],
      "execution_count": null,
      "outputs": [
        {
          "output_type": "stream",
          "text": [
            "-------------\n",
            "LogisticRegression(C=1.0, class_weight=None, dual=False, fit_intercept=True,\n",
            "                   intercept_scaling=1, l1_ratio=None, max_iter=10000000,\n",
            "                   multi_class='auto', n_jobs=None, penalty='l2',\n",
            "                   random_state=None, solver='lbfgs', tol=0.0001, verbose=0,\n",
            "                   warm_start=False)\n",
            "\n",
            "Train Accuracy:  0.874951878657222\n",
            "Test Accuracy:  0.8718047428395442\n",
            "-------------\n",
            "KNeighborsClassifier(algorithm='auto', leaf_size=30, metric='minkowski',\n",
            "                     metric_params=None, n_jobs=None, n_neighbors=3, p=2,\n",
            "                     weights='uniform')\n",
            "\n",
            "Train Accuracy:  0.871410147828765\n",
            "Test Accuracy:  0.7443794271635356\n",
            "-------------\n",
            "DecisionTreeClassifier(ccp_alpha=0.0, class_weight=None, criterion='gini',\n",
            "                       max_depth=5, max_features=None, max_leaf_nodes=None,\n",
            "                       min_impurity_decrease=0.0, min_impurity_split=None,\n",
            "                       min_samples_leaf=1, min_samples_split=2,\n",
            "                       min_weight_fraction_leaf=0.0, presort='deprecated',\n",
            "                       random_state=None, splitter='best')\n",
            "\n",
            "Train Accuracy:  0.9051913304588851\n",
            "Test Accuracy:  0.9047967354481059\n",
            "-------------\n",
            "RandomForestClassifier(bootstrap=True, ccp_alpha=0.0, class_weight=None,\n",
            "                       criterion='gini', max_depth=5, max_features=1,\n",
            "                       max_leaf_nodes=None, max_samples=None,\n",
            "                       min_impurity_decrease=0.0, min_impurity_split=None,\n",
            "                       min_samples_leaf=1, min_samples_split=2,\n",
            "                       min_weight_fraction_leaf=0.0, n_estimators=10,\n",
            "                       n_jobs=None, oob_score=False, random_state=None,\n",
            "                       verbose=0, warm_start=False)\n",
            "\n",
            "Train Accuracy:  0.8795619032953496\n",
            "Test Accuracy:  0.8727286726208808\n",
            "-------------\n",
            "MLPClassifier(activation='relu', alpha=1, batch_size='auto', beta_1=0.9,\n",
            "              beta_2=0.999, early_stopping=False, epsilon=1e-08,\n",
            "              hidden_layer_sizes=(100,), learning_rate='constant',\n",
            "              learning_rate_init=0.001, max_fun=15000, max_iter=10000000,\n",
            "              momentum=0.9, n_iter_no_change=10, nesterovs_momentum=True,\n",
            "              power_t=0.5, random_state=None, shuffle=True, solver='adam',\n",
            "              tol=0.0001, validation_fraction=0.1, verbose=False,\n",
            "              warm_start=False)\n",
            "\n",
            "Train Accuracy:  0.8849803664921466\n",
            "Test Accuracy:  0.8843162919618109\n",
            "-------------\n",
            "AdaBoostClassifier(algorithm='SAMME.R', base_estimator=None, learning_rate=1.0,\n",
            "                   n_estimators=50, random_state=None)\n",
            "\n",
            "Train Accuracy:  0.927904604250077\n",
            "Test Accuracy:  0.9264320911610717\n",
            "-------------\n",
            "GaussianNB(priors=None, var_smoothing=1e-09)\n",
            "\n",
            "Train Accuracy:  0.8651255004619649\n",
            "Test Accuracy:  0.8618724976901756\n",
            "-------------\n"
          ],
          "name": "stdout"
        }
      ]
    },
    {
      "cell_type": "markdown",
      "metadata": {
        "id": "WBkJdxpsF7kP"
      },
      "source": [
        "From what we've seen, it appears that the MLPClassifier, the Decision tree classifier, and the Adaboost classifier had the highest test set accuracies. K-nearest neighbors and linear regression were among the weakest. Moreover, KNN didn't seem to generalize well. The discrepancy in performance between approaches makes sense. Neural networks have more expressive power than linear regression since they are universal function approximators. Moreover, decision trees perform very well on categorial data, which is plentiful in our data. Adaboost is a boosting algorithm, and in this particular case it acts as an ensemble of different decision trees.\n",
        "\n",
        "Adaboost performed the best out of all of the three, so we'll fo ahead ans see if we can change some hyperparameters and boost our performance."
      ]
    },
    {
      "cell_type": "code",
      "metadata": {
        "colab": {
          "base_uri": "https://localhost:8080/"
        },
        "id": "mxfVf2Rh3uEt",
        "outputId": "2bcbf042-16a8-4813-a7a9-689f7bf55ba0"
      },
      "source": [
        "base_estimator = DecisionTreeClassifier(max_depth=5)\n",
        "adaboost_model = AdaBoostClassifier(base_estimator=base_estimator)\n",
        "\n",
        "adaboost_model.fit(X_train, y_train)\n",
        "y_pred_train = adaboost_model.predict(X_train)\n",
        "y_pred_test = adaboost_model.predict(X_test)\n",
        "print(\"-------------\")\n",
        "print(\"Train Accuracy: \", metrics.accuracy_score(y_train, y_pred_train))\n",
        "print(\"Test Accuracy: \", metrics.accuracy_score(y_test, y_pred_test))\n",
        "print(\"-------------\")"
      ],
      "execution_count": null,
      "outputs": [
        {
          "output_type": "stream",
          "text": [
            "-------------\n",
            "Train Accuracy:  0.9711945642131198\n",
            "Test Accuracy:  0.9554973821989529\n",
            "-------------\n"
          ],
          "name": "stdout"
        }
      ]
    },
    {
      "cell_type": "markdown",
      "metadata": {
        "id": "JBLmyZKEHDka"
      },
      "source": [
        "Since this model managed to get above 95% accuracy on our test dataset, we'll go ahead and save it."
      ]
    },
    {
      "cell_type": "code",
      "metadata": {
        "id": "oRcSTVpm73RE",
        "colab": {
          "base_uri": "https://localhost:8080/"
        },
        "outputId": "023c3d84-21c3-46d8-ddc3-69f0ffde8f09"
      },
      "source": [
        "import joblib\n",
        "\n",
        "joblib.dump(adaboost_model, \"adaboost_model.pkl\", compress = 3)"
      ],
      "execution_count": null,
      "outputs": [
        {
          "output_type": "execute_result",
          "data": {
            "text/plain": [
              "['adaboost_model.pkl']"
            ]
          },
          "metadata": {
            "tags": []
          },
          "execution_count": 64
        }
      ]
    },
    {
      "cell_type": "code",
      "metadata": {
        "colab": {
          "base_uri": "https://localhost:8080/"
        },
        "id": "6-sQFUwW_toM",
        "outputId": "5b628f14-f044-4c4d-de9c-af3230cf7be5"
      },
      "source": [
        "mlp_model = MLPClassifier(hidden_layer_sizes = (100, 50, 25))\n",
        "\n",
        "mlp_model.fit(X_train, y_train)\n",
        "y_pred = mlp_model.predict(X_test)\n",
        "y_pred_train = mlp_model.predict(X_train)\n",
        "y_pred_test = mlp_model.predict(X_test)\n",
        "print(\"-------------\")\n",
        "print(\"Train Accuracy: \", metrics.accuracy_score(y_train, y_pred_train))\n",
        "print(\"Test Accuracy: \", metrics.accuracy_score(y_test, y_pred_test))\n",
        "print(\"-------------\")"
      ],
      "execution_count": null,
      "outputs": [
        {
          "output_type": "stream",
          "text": [
            "-------------\n",
            "Train Accuracy:  0.9524657376039422\n",
            "Test Accuracy:  0.9493378503233755\n",
            "-------------\n"
          ],
          "name": "stdout"
        }
      ]
    },
    {
      "cell_type": "markdown",
      "metadata": {
        "id": "k2Lqev04HOb0"
      },
      "source": [
        "Boosting seems to do a very good job of classifying the dataset, even better than the MLPClassifier! Let's see if XGBoost can do an even better job of classifying the data than Adaboost. XGBoost is a very popular learning algorithm that is very popular in Kaggle competitions. [This paper](https://arxiv.org/pdf/1603.02754.pdf) details XGBoost's properties in detail.\n",
        "\n",
        "Specifically, we'll be performing a grid search on XGBoost and saving the best parameters that are found."
      ]
    },
    {
      "cell_type": "code",
      "metadata": {
        "colab": {
          "base_uri": "https://localhost:8080/"
        },
        "id": "3ODZdAW3lxO3",
        "outputId": "4a432c6e-5c69-42cf-e2dc-1b1305a338ed"
      },
      "source": [
        "from xgboost import XGBClassifier\n",
        "from sklearn.model_selection import GridSearchCV\n",
        "from sklearn.pipeline import Pipeline\n",
        "\n",
        "xgb_pipe = Pipeline([('xgb', XGBClassifier())])\n",
        "\n",
        "param_grid = {'xgb__max_depth': [4,5,6],\n",
        "              'xgb__n_estimators':[100,150,200],\n",
        "              'xgb__reg_lambda':[1.0, 1.25],\n",
        "              'xgb__tree_method':['gpu_hist'],\n",
        "              'xgb__booster':['dart']}\n",
        "\n",
        "grid = GridSearchCV(xgb_pipe,\n",
        "                    param_grid=param_grid,\n",
        "                    return_train_score=True,\n",
        "                    scoring='accuracy',)\n",
        "\n",
        "grid_results = grid.fit(X_train,y_train)\n",
        "best_params = grid_results.best_params_\n",
        "\n",
        "print('Parameters of the best model: ')\n",
        "print(best_params)\n",
        "\n",
        "y_train_pred = grid.predict(X_train)\n",
        "y_test_pred = grid.predict(X_test)\n",
        "print(\"-------------\")\n",
        "print(\"Train Accuracy: \", metrics.accuracy_score(y_train, y_train_pred))\n",
        "print(\"Test Accuracy: \", metrics.accuracy_score(y_test, y_test_pred))\n",
        "print(\"-------------\")\n"
      ],
      "execution_count": null,
      "outputs": [
        {
          "output_type": "stream",
          "text": [
            "Parameters of the best model: \n",
            "{'xgb__booster': 'dart', 'xgb__max_depth': 6, 'xgb__n_estimators': 200, 'xgb__reg_lambda': 1.0, 'xgb__tree_method': 'gpu_hist'}\n",
            "-------------\n",
            "Train Accuracy:  0.9703957499230058\n",
            "Test Accuracy:  0.9641207268247614\n",
            "-------------\n"
          ],
          "name": "stdout"
        }
      ]
    },
    {
      "cell_type": "markdown",
      "metadata": {
        "id": "beACp0mhIQXU"
      },
      "source": [
        "Looks like the XGBoost model with the best parameters achieved 96\n",
        "% accuracy on the test set! Let's save the best parameters from the grid search we performed on XGBoost."
      ]
    },
    {
      "cell_type": "code",
      "metadata": {
        "colab": {
          "base_uri": "https://localhost:8080/"
        },
        "id": "AvrQk_n6uB-i",
        "outputId": "c8e9c263-12e2-47bd-9cce-edbc1ac75d51"
      },
      "source": [
        "params = {}\n",
        "for parameter in best_params.keys():\n",
        "  new_parameter = parameter[5:]\n",
        "  params[new_parameter] = best_params[parameter]\n",
        "print(params)"
      ],
      "execution_count": null,
      "outputs": [
        {
          "output_type": "stream",
          "text": [
            "{'booster': 'dart', 'max_depth': 6, 'n_estimators': 200, 'reg_lambda': 1.0, 'tree_method': 'gpu_hist'}\n"
          ],
          "name": "stdout"
        }
      ]
    },
    {
      "cell_type": "markdown",
      "metadata": {
        "id": "RMoxXuCEIvUu"
      },
      "source": [
        "## Feature Analysis\n",
        "\n",
        "One of the ways in which we can try to find the importance of our features is by using mutual information. Given a dataset, where $x_i$ denotes the $i$-th feature of any training example and $y$ refers to a datapoint's label, the mutual information of a feature can be expressed as\n",
        "$$\\begin{align}\n",
        "MI(x_i, y) = \\sum_{x_i \\in \\{0, 1\\}, y \\in \\{0, 1\\}} p(x_i, y) \\log \\frac{p(x_i, y)}{p(x_i)p(y)},\n",
        "\\end{align}$$\n",
        "assuming that $x_i$ and $y$ are binary-valued. For cases where they aren't binary-valued, the summation can be taken over their respective domains. The probabilities can all be estimated according to their\n",
        "empirical distributions on the training set.\n",
        "\n",
        "Informally, mutual information gives a measure of how different the probability distributions $p(x_i, y)$ and $p(x_i)p(y)$ are. If $x_i$ and $y$ are independent random variables, then the MI between the two would be zero (since $p(x_i, y) = p(x_i)p(y)$). This is consistent with the idea that if $x_i$ and $y$ are independent, then $x_i$ doesn't give us useful information about $y$, and so the corresponding MI score would be zero. However, if $x_i$ gives us much useful information about $y$, than their MI score would be large."
      ]
    },
    {
      "cell_type": "code",
      "metadata": {
        "id": "vUPdLrjN0z3k"
      },
      "source": [
        "from sklearn.feature_selection import mutual_info_classif\n",
        "\n",
        "def make_mi_scores(X, y):\n",
        "    mi_scores = mutual_info_classif(X, y)\n",
        "    mi_scores = pd.Series(mi_scores, name=\"Mutual Info Scores\", index=X.columns)\n",
        "    mi_scores = mi_scores.sort_values(ascending=False)\n",
        "    return mi_scores\n",
        "\n",
        "mi_scores = make_mi_scores(X_train, y_train)\n",
        "sorted_features = mi_scores.index"
      ],
      "execution_count": null,
      "outputs": []
    },
    {
      "cell_type": "code",
      "metadata": {
        "colab": {
          "base_uri": "https://localhost:8080/",
          "height": 396
        },
        "id": "w4pthcH5w8EX",
        "outputId": "601a8689-bf79-4ca7-cf1d-53c327ebcaf1"
      },
      "source": [
        "plt.figure(figsize=(7,4))\n",
        "plt.bar(sorted_features.tolist(), mi_scores.values)\n",
        "plt.xticks(rotation=90)\n",
        "plt.xlabel('Feature')\n",
        "plt.ylabel('Mutual Information Score')\n",
        "plt.title(\"Ranked Feature Importance\")\n",
        "plt.show()"
      ],
      "execution_count": null,
      "outputs": [
        {
          "output_type": "display_data",
          "data": {
            "image/png": "[encoded data removed]",
            "text/plain": [
              "<Figure size 504x288 with 1 Axes>"
            ]
          },
          "metadata": {
            "tags": [],
            "needs_background": "light"
          }
        }
      ]
    },
    {
      "cell_type": "markdown",
      "metadata": {
        "id": "znhlrV7TQN3m"
      },
      "source": [
        "In the graph above, we can clearly see that the 5 features with the top 5 MI scores are f13, f8, TierNumber, UseNumber, f15, and f14. These are thus our most informative features. Moreover, we see that the features with the lowest 5 scores and thus least informative features are f11, f23, f9, GenderNumber, and f22.\n",
        "\n",
        "We will now implement cross validation to see which top $k$ features to preserve in a new XGBoost model, where $k \\in \\{5, 10, 15, 20\\}.$"
      ]
    },
    {
      "cell_type": "code",
      "metadata": {
        "id": "d9KwGBfyRPAU"
      },
      "source": [
        "from sklearn.model_selection import cross_val_score\n",
        "\n",
        "num_features_range = [5, 10, 15, 20]\n",
        "\n",
        "def final_best_features(X_train, y_train, num_features_range, sorted_features, params):\n",
        "    best_features = None\n",
        "    best_accuracy = -1\n",
        "    for i in num_features_range:\n",
        "        print(f\"Keeping {i} best features...\")\n",
        "        features = sorted_features[:i].tolist()\n",
        "        X_train_reduced = X_train[features]\n",
        "        print(\"Training model...\")\n",
        "        model = XGBClassifier(**params)\n",
        "        print(\"Testing model...\")\n",
        "        scores = cross_val_score(model, X_train_reduced, y_train, cv=5)\n",
        "        accuracy = scores.mean()\n",
        "        print(f\"Accuracy for keeping {i} best features: {accuracy}\")\n",
        "        if accuracy > best_accuracy:\n",
        "            best_accuracy = accuracy\n",
        "            best_features = features\n",
        "    return best_features"
      ],
      "execution_count": null,
      "outputs": []
    },
    {
      "cell_type": "code",
      "metadata": {
        "colab": {
          "base_uri": "https://localhost:8080/"
        },
        "id": "WllFKUanl1Bz",
        "outputId": "30738b85-9d9c-4914-9ebe-1b2cf2342ab8"
      },
      "source": [
        "final_features = final_best_features(X_train, y_train, num_features_range, sorted_features, params)\n",
        "X_train_final, X_test_final = X_train[final_features], X_test[final_features]"
      ],
      "execution_count": null,
      "outputs": [
        {
          "output_type": "stream",
          "text": [
            "Keeping 5 best features...\n",
            "Training model...\n",
            "Testing model...\n",
            "Accuracy for keeping 5 best features: 0.9261914792325985\n",
            "Keeping 10 best features...\n",
            "Training model...\n",
            "Testing model...\n",
            "Accuracy for keeping 10 best features: 0.9417635644724147\n",
            "Keeping 15 best features...\n",
            "Training model...\n",
            "Testing model...\n",
            "Accuracy for keeping 15 best features: 0.954188468690328\n",
            "Keeping 20 best features...\n",
            "Training model...\n",
            "Testing model...\n",
            "Accuracy for keeping 20 best features: 0.9635047816824237\n"
          ],
          "name": "stdout"
        }
      ]
    },
    {
      "cell_type": "markdown",
      "metadata": {
        "id": "Jqdsow6bRvCv"
      },
      "source": [
        "It seems that the model that kept the top 20 features performed the best, so we'll use that to make our final evaluation on the test set."
      ]
    },
    {
      "cell_type": "code",
      "metadata": {
        "id": "2v5-4fR2_Cac"
      },
      "source": [
        "final_reduced_model = XGBClassifier(**params)\n",
        "\n",
        "eval_set = [(X_train_final, y_train), (X_test_final, y_test)]\n",
        "\n",
        "final_reduced_model.fit(X_train_final, y_train, eval_metric=[\"error\", \"logloss\"], eval_set=eval_set, verbose=False)\n",
        "\n",
        "y_pred_train = final_reduced_model.predict(X_train_final)\n",
        "y_pred_test = final_reduced_model.predict(X_test_final)\n",
        "\n",
        "\n",
        "final_train_accuracy = metrics.accuracy_score(y_train, y_pred_train)\n",
        "final_test_accuracy = metrics.accuracy_score(y_test, y_pred_test)\n",
        "results = final_reduced_model.evals_result()"
      ],
      "execution_count": null,
      "outputs": []
    },
    {
      "cell_type": "markdown",
      "metadata": {
        "id": "cfJS08ptR9nT"
      },
      "source": [
        "We will now go ahead and plot the log loss and error of our XGBoost model during training:"
      ]
    },
    {
      "cell_type": "code",
      "metadata": {
        "id": "VRymBzUXAsWC"
      },
      "source": [
        "def plot_history(model):\n",
        "    results = model.evals_result()\n",
        "    num_epochs = len(results['validation_0']['error'])\n",
        "    x = range(0, num_epochs)\n",
        "\n",
        "    fig, ax = plt.subplots()\n",
        "    ax.plot(x, results['validation_0']['logloss'], label='Train')\n",
        "    ax.plot(x, results['validation_1']['logloss'], label='Test')\n",
        "    ax.legend()\n",
        "    plt.ylabel('Loss')\n",
        "    plt.title('XGBoost Log Loss')\n",
        "    plt.show()\n",
        "    # plot classification error\n",
        "    fig, ax = plt.subplots()\n",
        "    ax.plot(x, results['validation_0']['error'], label='Train')\n",
        "    ax.plot(x, results['validation_1']['error'], label='Test')\n",
        "    ax.legend()\n",
        "    plt.ylabel('Classification Error')\n",
        "    plt.title('XGBoost Classification Error')\n",
        "    plt.show()"
      ],
      "execution_count": null,
      "outputs": []
    },
    {
      "cell_type": "code",
      "metadata": {
        "colab": {
          "base_uri": "https://localhost:8080/",
          "height": 579
        },
        "id": "RDaVLUoGuOK5",
        "outputId": "379d682b-b421-4f63-ee57-4fe02d1e1387"
      },
      "source": [
        "print(\"Final Train Accuracy: \",final_train_accuracy)\n",
        "print(\"Final Test Accuracy: \", final_test_accuracy)\n",
        "plot_history(final_reduced_model)"
      ],
      "execution_count": null,
      "outputs": [
        {
          "output_type": "stream",
          "text": [
            "Final Train Accuracy:  0.9701070218663381\n",
            "Final Test Accuracy:  0.9641207268247614\n"
          ],
          "name": "stdout"
        },
        {
          "output_type": "display_data",
          "data": {
            "image/png": "[encoded data removed]",
            "text/plain": [
              "<Figure size 432x288 with 1 Axes>"
            ]
          },
          "metadata": {
            "tags": [],
            "needs_background": "light"
          }
        },
        {
          "output_type": "display_data",
          "data": {
            "image/png": "[encoded data removed]",
            "text/plain": [
              "<Figure size 432x288 with 1 Axes>"
            ]
          },
          "metadata": {
            "tags": [],
            "needs_background": "light"
          }
        }
      ]
    },
    {
      "cell_type": "markdown",
      "metadata": {
        "id": "vitsB-0mSGE1"
      },
      "source": [
        "It seems that the model overfits quite a bit, but the discrepancy accounting for the training error and test error is less than 1%, which isn't too bad. Moreover, we see that cross-validation didn't give a model that performed better than the one trained on all of the features. However, it does use less features nonetheless.\n",
        "\n",
        "We'll go ahead and save this model."
      ]
    },
    {
      "cell_type": "code",
      "metadata": {
        "colab": {
          "base_uri": "https://localhost:8080/"
        },
        "id": "fk9mO3TVintL",
        "outputId": "940c2792-71e2-4aae-e91e-f6ac1b54dd60"
      },
      "source": [
        "joblib.dump(final_reduced_model, \"final_reduced_model.pkl\", compress = 3)"
      ],
      "execution_count": null,
      "outputs": [
        {
          "output_type": "execute_result",
          "data": {
            "text/plain": [
              "['final_reduced_model.pkl']"
            ]
          },
          "metadata": {
            "tags": []
          },
          "execution_count": 62
        }
      ]
    }
  ]
}